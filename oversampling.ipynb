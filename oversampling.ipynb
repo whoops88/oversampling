{
 "cells": [
  {
   "cell_type": "code",
   "execution_count": 133,
   "metadata": {
    "ExecuteTime": {
     "end_time": "2021-03-12T22:28:47.379420Z",
     "start_time": "2021-03-12T22:28:47.360432Z"
    }
   },
   "outputs": [],
   "source": [
    "from sklearn.model_selection import train_test_split\n",
    "from sklearn.ensemble import RandomForestClassifier\n",
    "from sklearn.metrics import classification_report, confusion_matrix\n",
    "from sklearn.datasets import make_classification\n",
    "from imblearn.over_sampling import RandomOverSampler\n",
    "from collections import Counter\n",
    "import numpy as np\n",
    "import seaborn as sns\n",
    "import matplotlib.pyplot as plt\n",
    "%matplotlib inline"
   ]
  },
  {
   "cell_type": "code",
   "execution_count": 91,
   "metadata": {
    "ExecuteTime": {
     "end_time": "2021-03-12T21:53:10.335440Z",
     "start_time": "2021-03-12T21:53:10.273479Z"
    }
   },
   "outputs": [],
   "source": [
    "# create dataset\n",
    "X, y = make_classification(n_samples = 100000, \n",
    "                           n_features=4, \n",
    "                           n_classes=2, \n",
    "                           n_informative=2, \n",
    "                           weights=[0.02, 0.98],\n",
    "                           random_state=23)"
   ]
  },
  {
   "cell_type": "code",
   "execution_count": 92,
   "metadata": {
    "ExecuteTime": {
     "end_time": "2021-03-12T21:53:11.495255Z",
     "start_time": "2021-03-12T21:53:11.437266Z"
    }
   },
   "outputs": [],
   "source": [
    "# oversampling data\n",
    "ros = RandomOverSampler(random_state=23)\n",
    "X_res, y_res =ros.fit_resample(X, y)"
   ]
  },
  {
   "cell_type": "code",
   "execution_count": 127,
   "metadata": {
    "ExecuteTime": {
     "end_time": "2021-03-12T22:21:08.624149Z",
     "start_time": "2021-03-12T22:21:08.570183Z"
    }
   },
   "outputs": [
    {
     "data": {
      "text/plain": [
       "Counter({1: 97507, 0: 2493})"
      ]
     },
     "execution_count": 127,
     "metadata": {},
     "output_type": "execute_result"
    }
   ],
   "source": [
    "# target distribution in original dataset\n",
    "Counter(y)"
   ]
  },
  {
   "cell_type": "code",
   "execution_count": 94,
   "metadata": {
    "ExecuteTime": {
     "end_time": "2021-03-12T21:53:12.735134Z",
     "start_time": "2021-03-12T21:53:12.649186Z"
    }
   },
   "outputs": [
    {
     "data": {
      "text/plain": [
       "Counter({1: 97507, 0: 97507})"
      ]
     },
     "execution_count": 94,
     "metadata": {},
     "output_type": "execute_result"
    }
   ],
   "source": [
    "# target distribution in overfitted dataset\n",
    "Counter(y_res)"
   ]
  },
  {
   "cell_type": "code",
   "execution_count": 95,
   "metadata": {
    "ExecuteTime": {
     "end_time": "2021-03-12T21:53:13.741123Z",
     "start_time": "2021-03-12T21:53:13.388826Z"
    }
   },
   "outputs": [
    {
     "data": {
      "image/png": "[encoded data removed]",
      "text/plain": [
       "<Figure size 720x504 with 2 Axes>"
      ]
     },
     "metadata": {},
     "output_type": "display_data"
    }
   ],
   "source": [
    "# create pie plots\n",
    "fig, axes = plt.subplots(ncols=2, figsize=(10,7))\n",
    "\n",
    "lab = ('1 class','2 class')\n",
    "autopct='%.2f%%'\n",
    "textprops={'fontsize': 18}\n",
    "\n",
    "axes[0].set_title('Original data', fontsize=20)\n",
    "axes[0].pie([Counter(y)[0],Counter(y)[1]], labels=lab, autopct=autopct, textprops=textprops)\n",
    "\n",
    "axes[1].set_title('Resampled data', fontsize=20)\n",
    "axes[1].pie([Counter(y_res)[0],Counter(y_res)[1]], labels=lab, autopct=autopct, textprops=textprops)\n",
    "\n",
    "fig.tight_layout()\n",
    "plt.show();"
   ]
  },
  {
   "cell_type": "code",
   "execution_count": 96,
   "metadata": {
    "ExecuteTime": {
     "end_time": "2021-03-12T21:53:15.271070Z",
     "start_time": "2021-03-12T21:53:15.153113Z"
    }
   },
   "outputs": [],
   "source": [
    "# splitting data into training and test set\n",
    "X_train , X_test, y_train, y_test = train_test_split(X, y, test_size=0.2, stratify=y, random_state=23)\n",
    "X_train_res , X_test_res, y_train_res, y_test_res = train_test_split(X_res, y_res, test_size=0.2, random_state=23)"
   ]
  },
  {
   "cell_type": "code",
   "execution_count": 97,
   "metadata": {
    "ExecuteTime": {
     "end_time": "2021-03-12T21:54:41.333727Z",
     "start_time": "2021-03-12T21:53:15.817781Z"
    }
   },
   "outputs": [
    {
     "name": "stdout",
     "output_type": "stream",
     "text": [
      "              precision    recall  f1-score   support\n",
      "\n",
      "           0       0.75      0.40      0.52       499\n",
      "           1       0.98      1.00      0.99     19501\n",
      "\n",
      "    accuracy                           0.98     20000\n",
      "   macro avg       0.87      0.70      0.76     20000\n",
      "weighted avg       0.98      0.98      0.98     20000\n",
      "\n"
     ]
    }
   ],
   "source": [
    "# build model based on original data\n",
    "model = RandomForestClassifier(n_estimators=200, n_jobs=-1).fit(X_train, y_train)\n",
    "y_pred = model.predict(X_test)\n",
    "print(classification_report(y_test, y_pred))"
   ]
  },
  {
   "cell_type": "code",
   "execution_count": 98,
   "metadata": {
    "ExecuteTime": {
     "end_time": "2021-03-12T21:56:43.296968Z",
     "start_time": "2021-03-12T21:54:41.337725Z"
    }
   },
   "outputs": [
    {
     "name": "stdout",
     "output_type": "stream",
     "text": [
      "              precision    recall  f1-score   support\n",
      "\n",
      "           0       0.99      1.00      0.99     19468\n",
      "           1       1.00      0.99      0.99     19535\n",
      "\n",
      "    accuracy                           0.99     39003\n",
      "   macro avg       0.99      0.99      0.99     39003\n",
      "weighted avg       0.99      0.99      0.99     39003\n",
      "\n"
     ]
    }
   ],
   "source": [
    "# build model based on resampled data\n",
    "model_res = RandomForestClassifier(n_estimators=200, n_jobs=-1).fit(X_train_res, y_train_res)\n",
    "y_pred_res = model_res.predict(X_test_res)\n",
    "print(classification_report(y_test_res, y_pred_res))"
   ]
  },
  {
   "cell_type": "code",
   "execution_count": 110,
   "metadata": {
    "ExecuteTime": {
     "end_time": "2021-03-12T22:03:42.240012Z",
     "start_time": "2021-03-12T22:03:42.121047Z"
    }
   },
   "outputs": [],
   "source": [
    "# create confusion matrix\n",
    "cmatrix_res = confusion_matrix(y_test_res, y_pred_res)\n",
    "cmatrix = confusion_matrix(y_test, y_pred)"
   ]
  },
  {
   "cell_type": "code",
   "execution_count": 158,
   "metadata": {
    "ExecuteTime": {
     "end_time": "2021-03-12T22:40:50.176275Z",
     "start_time": "2021-03-12T22:40:49.858185Z"
    }
   },
   "outputs": [
    {
     "data": {
      "image/png": "[encoded data removed]",
      "text/plain": [
       "<Figure size 1080x504 with 2 Axes>"
      ]
     },
     "metadata": {
      "needs_background": "light"
     },
     "output_type": "display_data"
    }
   ],
   "source": [
    "# confusion matrix visiualisation\n",
    "fig, (ax1,ax2) = plt.subplots(ncols=2, figsize=(15,7))\n",
    "\n",
    "names = ['TN','FP','FN','TP']\n",
    "counts1 = [\"{0:0.0f}\".format(value) for value in cmatrix.ravel()]\n",
    "percent1 = [\"{0:.2%}\".format(value) for value in cmatrix.ravel()/cmatrix.sum()]\n",
    "labels1 = [f\"{v1}\\n{v2}\\n{v3}\" for v1,v2,v3 in zip(names, counts1, percent1)]\n",
    "labels1 = np.array(labels1).reshape(2,2)\n",
    "counts2 = [\"{0:0.0f}\".format(value) for value in cmatrix_res.ravel()]\n",
    "percent2 = [\"{0:.2%}\".format(value) for value in cmatrix_res.ravel()/cmatrix_res.sum()]\n",
    "labels2 = [f\"{v1}\\n{v2}\\n{v3}\" for v1,v2,v3 in zip(names, counts2, percent2)]\n",
    "labels2 = np.array(labels2).reshape(2,2)\n",
    "\n",
    "\n",
    "ax1.set_title('Original data')\n",
    "p1 = sns.heatmap(cmatrix_res, annot=labels2,fmt=\"\", ax=ax2,cbar=False,linewidths=.5, cmap='Blues')\n",
    "ax1.set_xlabel('Predicted label')\n",
    "ax2.set_title('Resampled data')\n",
    "p2 = sns.heatmap(cmatrix, annot=labels1, fmt=\"\", ax=ax1,cbar=False,linewidths=.5,cmap='Blues')\n",
    "plt.show();"
   ]
  },
  {
   "cell_type": "code",
   "execution_count": null,
   "metadata": {},
   "outputs": [],
   "source": []
  }
 ],
 "metadata": {
  "kernelspec": {
   "display_name": "Python 3",
   "language": "python",
   "name": "python3"
  },
  "language_info": {
   "codemirror_mode": {
    "name": "ipython",
    "version": 3
   },
   "file_extension": ".py",
   "mimetype": "text/x-python",
   "name": "python",
   "nbconvert_exporter": "python",
   "pygments_lexer": "ipython3",
   "version": "3.8.3"
  }
 },
 "nbformat": 4,
 "nbformat_minor": 4
}
